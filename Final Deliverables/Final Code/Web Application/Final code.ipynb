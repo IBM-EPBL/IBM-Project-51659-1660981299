
EMERGING METHODS FOR EARLY DETECTION OF FOREST FIRE USING DEEP LEARNING
Team id :PNT2022TMID28723
Importing Keras libraries
import keras
Importing ImageDataGenerator from Keras
from matplotlib import pyplot as plt
from keras.preprocessing.image import ImageDataGenerator
Defining the Parameters
train_datagen=ImageDataGenerator(rescale=1./255,shear_range=0.2,rotation_range=180,zoom_range=0.2,horizontal_flip=True)
test_datagen=ImageDataGenerator(rescale=1./255,shear_range=0.2,rotation_range=180,zoom_range=0.2,horizontal_flip=True)
Applying ImageDataGenerator functionality to train dataset
from google.colab import drive
drive.mount('/content/drive')
Mounted at /content/drive
x_train=train_datagen.flow_from_directory('/content/drive/MyDrive/IBM PROJECT/dataset/DATA SET/archive/Dataset/Dataset/train_set',target_size=(64,64),batch_size=32,class_mode='binary')
Found 436 images belonging to 2 classes.
Applying ImageDataGenerator functionality to test dataset
x_test=test_datagen.flow_from_directory('/content/drive/MyDrive/IBM PROJECT/dataset/DATA SET/archive/Dataset/Dataset/test_set',target_size=(64,64),batch_size=32,class_mode='binary')
Found 121 images belonging to 2 classes.
Importing Model Building Libraries
#to define the linear Initialisation import sequential
from keras.models import Sequential
#to add layers import Dense
from keras.layers import Dense
#to create Convolutional kernel import convolution2D
from keras.layers import Convolution2D
#import Maxpooling layer 
from keras.layers import MaxPooling2D
#import flatten layer
from keras.layers import Flatten
import warnings
warnings.filterwarnings('ignore')
Initializing the model
model = Sequential()
Adding CNN Layers
model.add(Convolution2D(32,(3,3),input_shape=(64,64,3),activation='relu'))
#add maxpooling layers
model.add(MaxPooling2D(pool_size=(2,2)))
#add faltten layer
model.add(Flatten())
Add Dense layers
#add hidden layers
model.add(Dense(150,activation='relu'))
#add output layer
model.add(Dense(1,activation='sigmoid'))
configuring the learning process
model.compile(loss='binary_crossentropy',optimizer="adam",metrics=["accuracy"])
Training the model
model.fit_generator(x_train,steps_per_epoch=14,epochs=10,validation_data=x_test,validation_steps=4)
Epoch 1/10
14/14 [==============================] - 103s 7s/step - loss: 0.7079 - accuracy: 0.7156 - val_loss: 0.2250 - val_accuracy: 0.9091
Epoch 2/10
14/14 [==============================] - 21s 1s/step - loss: 0.3208 - accuracy: 0.8670 - val_loss: 0.1261 - val_accuracy: 0.9669
Epoch 3/10
14/14 [==============================] - 21s 1s/step - loss: 0.2768 - accuracy: 0.8739 - val_loss: 0.1155 - val_accuracy: 0.9752
Epoch 4/10
14/14 [==============================] - 22s 2s/step - loss: 0.1892 - accuracy: 0.9197 - val_loss: 0.0967 - val_accuracy: 0.9669
Epoch 5/10
14/14 [==============================] - 22s 2s/step - loss: 0.1805 - accuracy: 0.9243 - val_loss: 0.0814 - val_accuracy: 0.9917
Epoch 6/10
14/14 [==============================] - 20s 1s/step - loss: 0.1785 - accuracy: 0.9312 - val_loss: 0.0808 - val_accuracy: 0.9669
Epoch 7/10
14/14 [==============================] - 22s 2s/step - loss: 0.1868 - accuracy: 0.9128 - val_loss: 0.0611 - val_accuracy: 0.9917
Epoch 8/10
14/14 [==============================] - 20s 1s/step - loss: 0.2116 - accuracy: 0.9060 - val_loss: 0.1104 - val_accuracy: 0.9421
Epoch 9/10
14/14 [==============================] - 22s 2s/step - loss: 0.1941 - accuracy: 0.9060 - val_loss: 0.1163 - val_accuracy: 0.9256
Epoch 10/10
14/14 [==============================] - 20s 2s/step - loss: 0.1822 - accuracy: 0.9174 - val_loss: 0.1160 - val_accuracy: 0.9504
Save the model
model.save("forest.h5")
Predictions
#import load model from keras.model
from keras.models import load_model
#import image from keras
from tensorflow.keras.preprocessing import image
import numpy as np
#import cv2
import cv2
#load the saved model
model=load_model("/content/drive/MyDrive/IBM PROJECT/dataset/forest.h5")
img=image.load_img('/content/drive/MyDrive/IBM PROJECT/dataset/DATA SET/archive/Dataset/Dataset/test_set/with fire/19464620_401.jpg')
x=image.img_to_array(img)
res=cv2.resize(x,dsize=(64,64),interpolation=cv2.INTER_CUBIC)
#expand the image shape
x=np.expand_dims(res,axis=0)
pred=model.predict(x)
pred = int(pred[0][0])
pred
int(pred)
WARNING:tensorflow:5 out of the last 5 calls to .predict_function at 0x7fe57567e560> triggered tf.function retracing. Tracing is expensive and the excessive number of tracings could be due to (1) creating @tf.function repeatedly in a loop, (2) passing tensors with different shapes, (3) passing Python objects instead of tensors. For (1), please define your @tf.function outside of the loop. For (2), @tf.function has reduce_retracing=True option that can avoid unnecessary retracing. For (3), please refer to https://www.tensorflow.org/guide/function#controlling_retracing and https://www.tensorflow.org/api_docs/python/tf/function for  more details.
1/1 [==============================] - 0s 87ms/step
0
pip install twilio
Looking in indexes: https://pypi.org/simple, https://us-python.pkg.dev/colab-wheels/public/simple/
Requirement already satisfied: twilio in /usr/local/lib/python3.7/dist-packages (7.15.3)
Requirement already satisfied: PyJWT<3.0.0,>=2.0.0 in /usr/local/lib/python3.7/dist-packages (from twilio) (2.6.0)
Requirement already satisfied: requests>=2.0.0 in /usr/local/lib/python3.7/dist-packages (from twilio) (2.23.0)
Requirement already satisfied: pytz in /usr/local/lib/python3.7/dist-packages (from twilio) (2022.6)
Requirement already satisfied: idna<3,>=2.5 in /usr/local/lib/python3.7/dist-packages (from requests>=2.0.0->twilio) (2.10)
Requirement already satisfied: chardet<4,>=3.0.2 in /usr/local/lib/python3.7/dist-packages (from requests>=2.0.0->twilio) (3.0.4)
Requirement already satisfied: urllib3!=1.25.0,!=1.25.1,<1.26,>=1.21.1 in /usr/local/lib/python3.7/dist-packages (from requests>=2.0.0->twilio) (1.24.3)
Requirement already satisfied: certifi>=2017.4.17 in /usr/local/lib/python3.7/dist-packages (from requests>=2.0.0->twilio) (2022.9.24)
from twilio.rest import Client
if pred==0:
  print('Forest fire')
  account_sid='AC0f20fb7b8e71118fa14d874dc2384676'
  auth_token='74902c8f190f5a4d288bbf5e3b48c84e'
  client=Client(account_sid,auth_token)
  message=client.messages \
  .create(
      body='forest fire is detected,stay alert',
      #use twilio free number
      from_='+18608542959',
      #to number
      to='+916380889559')
  print(message.sid)
  print("Fire detected")
  print("SMS Sent!")
elif pred==1:
  print('No Fire')
Forest fire
SM09954a816d4a77ed39985ee5e06b9be3
Fire detected
SMS Sent!
Open cv for video processing
pip install twilio
Looking in indexes: https://pypi.org/simple, https://us-python.pkg.dev/colab-wheels/public/simple/
Requirement already satisfied: twilio in /usr/local/lib/python3.7/dist-packages (7.15.3)
Requirement already satisfied: requests>=2.0.0 in /usr/local/lib/python3.7/dist-packages (from twilio) (2.23.0)
Requirement already satisfied: PyJWT<3.0.0,>=2.0.0 in /usr/local/lib/python3.7/dist-packages (from twilio) (2.6.0)
Requirement already satisfied: pytz in /usr/local/lib/python3.7/dist-packages (from twilio) (2022.6)
Requirement already satisfied: chardet<4,>=3.0.2 in /usr/local/lib/python3.7/dist-packages (from requests>=2.0.0->twilio) (3.0.4)
Requirement already satisfied: certifi>=2017.4.17 in /usr/local/lib/python3.7/dist-packages (from requests>=2.0.0->twilio) (2022.9.24)
Requirement already satisfied: urllib3!=1.25.0,!=1.25.1,<1.26,>=1.21.1 in /usr/local/lib/python3.7/dist-packages (from requests>=2.0.0->twilio) (1.24.3)
Requirement already satisfied: idna<3,>=2.5 in /usr/local/lib/python3.7/dist-packages (from requests>=2.0.0->twilio) (2.10)
from logging import WARNING
#import opencv library
import cv2
#import numpy
import numpy as np
#import image function from keras
from keras.preprocessing import image
#import load_model from keras
from keras.models import load_model
#import client from twilio API
from twilio.rest import Client
#import playsound package
Creating An Account in Twilio Service
Sending Alert Message
import cv2 
import numpy as np
from google.colab.patches import cv2_imshow
from matplotlib import pyplot as plt
import librosa
from tensorflow.keras.preprocessing import image
from keras.models import load_model
# Create a VideoCapture object and read from input file
# If the input is the camera, pass 0 instead of the video file name
cap = cv2.VideoCapture('/content/drive/MyDrive/IBM PROJECT/dataset/datasetvideo.mp4')
 
# Check if camera opened successfully
if (cap.isOpened()== False): 
  print("Error opening video stream or file")
 
# Read until video is completed
while(cap.isOpened()):
  # Capture frame-by-frame
  ret, frame = cap.read()
  if ret == True:
    
    cv2_imshow(frame)
    x=image.img_to_array(frame)
    res=cv2.resize(x,dsize=(64,64),interpolation=cv2.INTER_CUBIC)
    #expand the image shape
    x=np.expand_dims(res,axis=0)
    model=load_model("/content/drive/MyDrive/IBM PROJECT/dataset/forest.h5")
    pred=model.predict(x)
    pred = int(pred[0][0])
    pred
    int(pred)
    if pred==0:
      print('Forest fire')
      break
    else:
      print("no danger")
      break
 
# When everything done, release the video capture object
cap.release()
 
# Closes all the frames
cv2.destroyAllWindows()

WARNING:tensorflow:6 out of the last 6 calls to .predict_function at 0x7fe554fe83b0> triggered tf.function retracing. Tracing is expensive and the excessive number of tracings could be due to (1) creating @tf.function repeatedly in a loop, (2) passing tensors with different shapes, (3) passing Python objects instead of tensors. For (1), please define your @tf.function outside of the loop. For (2), @tf.function has reduce_retracing=True option that can avoid unnecessary retracing. For (3), please refer to https://www.tensorflow.org/guide/function#controlling_retracing and https://www.tensorflow.org/api_docs/python/tf/function for  more details.
1/1 [==============================] - 0s 105ms/step
Forest fire
from twilio.rest import Client
if pred==0:
  print('Forest fire')
  from twilio.rest import Client
  account_sid='AC0f20fb7b8e71118fa14d874dc2384676'
  auth_token='74902c8f190f5a4d288bbf5e3b48c84e'
  client=Client(account_sid,auth_token)
  message=client.messages \
  .create(
      body='forest fire is detected,stay alert',
      #use twilio free number
      from_='+18608542959',
      #to number
      to='+916380889559')
  print(message.sid)
  print("Fire detected")
  print("SMS Sent!")
elif pred==1:
  print('No Fire')
Forest fire
SM4f08a8f5863ae837f7f924b7a0c4e88e
Fire detected
SMS Sent!
